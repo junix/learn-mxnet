{
 "cells": [
  {
   "cell_type": "code",
   "execution_count": 2,
   "metadata": {
    "collapsed": true
   },
   "outputs": [],
   "source": [
    "import mxnet.ndarray as nd\n",
    "import mxnet.autograd as ag"
   ]
  },
  {
   "cell_type": "code",
   "execution_count": 3,
   "metadata": {
    "collapsed": true
   },
   "outputs": [],
   "source": [
    "x = nd.array([[1, 2], [3, 4]])"
   ]
  },
  {
   "cell_type": "code",
   "execution_count": 5,
   "metadata": {},
   "outputs": [],
   "source": [
    "x.attach_grad()"
   ]
  },
  {
   "cell_type": "code",
   "execution_count": 7,
   "metadata": {
    "collapsed": true
   },
   "outputs": [],
   "source": [
    "with ag.record():\n",
    "    y = x * 2\n",
    "    z = y * x\n"
   ]
  },
  {
   "cell_type": "code",
   "execution_count": 12,
   "metadata": {},
   "outputs": [
    {
     "data": {
      "text/plain": [
       "\n",
       "[[  4.   8.]\n",
       " [ 12.  16.]]\n",
       "<NDArray 2x2 @cpu(0)>"
      ]
     },
     "execution_count": 12,
     "metadata": {},
     "output_type": "execute_result"
    }
   ],
   "source": [
    "x.grad"
   ]
  },
  {
   "cell_type": "code",
   "execution_count": 13,
   "metadata": {},
   "outputs": [
    {
     "name": "stdout",
     "output_type": "stream",
     "text": [
      "Help on function sum in module mxnet.ndarray:\n",
      "\n",
      "sum(data=None, axis=_Null, keepdims=_Null, exclude=_Null, out=None, name=None, **kwargs)\n",
      "    Computes the sum of array elements over given axes.\n",
      "    \n",
      "    .. Note::\n",
      "    \n",
      "      `sum` and `sum_axis` are equivalent.\n",
      "    \n",
      "    Example::\n",
      "    \n",
      "      data = [[[1,2],[2,3],[1,3]],\n",
      "              [[1,4],[4,3],[5,2]],\n",
      "              [[7,1],[7,2],[7,3]]]\n",
      "    \n",
      "      sum(data, axis=1)\n",
      "      [[  4.   8.]\n",
      "       [ 10.   9.]\n",
      "       [ 21.   6.]]\n",
      "    \n",
      "      sum(data, axis=[1,2])\n",
      "      [ 12.  19.  27.]\n",
      "    \n",
      "    \n",
      "    \n",
      "    Defined in src/operator/tensor/broadcast_reduce_op_value.cc:L69\n",
      "    \n",
      "    Parameters\n",
      "    ----------\n",
      "    data : NDArray\n",
      "        The input\n",
      "    axis : Shape(tuple), optional, default=()\n",
      "        The axis or axes along which to perform the reduction.\n",
      "    \n",
      "          The default, `axis=()`, will compute over all elements into a\n",
      "          scalar array with shape `(1,)`.\n",
      "    \n",
      "          If `axis` is int, a reduction is performed on a particular axis.\n",
      "    \n",
      "          If `axis` is a tuple of ints, a reduction is performed on all the axes\n",
      "          specified in the tuple.\n",
      "    \n",
      "          If `exclude` is true, reduction will be performed on the axes that are\n",
      "          NOT in axis instead.\n",
      "    \n",
      "          Negative values means indexing from right to left.\n",
      "    keepdims : boolean, optional, default=False\n",
      "        If this is set to `True`, the reduced axes are left in the result as dimension with size one.\n",
      "    exclude : boolean, optional, default=False\n",
      "        Whether to perform reduction on axis that are NOT in axis instead.\n",
      "    \n",
      "    out : NDArray, optional\n",
      "        The output NDArray to hold the result.\n",
      "    \n",
      "    Returns\n",
      "    -------\n",
      "    out : NDArray or list of NDArrays\n",
      "        The output of this function.\n",
      "\n"
     ]
    }
   ],
   "source": [
    "help(nd.sum)"
   ]
  },
  {
   "cell_type": "code",
   "execution_count": 14,
   "metadata": {
    "collapsed": true
   },
   "outputs": [],
   "source": [
    "from mxnet import ndarray as nd\n",
    "from mxnet import autograd\n",
    "from mxnet import gluon\n",
    "\n",
    "num_inputs = 2\n",
    "num_examples = 1000\n",
    "\n",
    "true_w = [2, -3.4]\n",
    "true_b = 4.2\n",
    "\n",
    "X = nd.random_normal(shape=(num_examples, num_inputs))\n",
    "y = true_w[0] * X[:, 0] + true_w[1] * X[:, 1] + true_b\n",
    "y += .01 * nd.random_normal(shape=y.shape)"
   ]
  },
  {
   "cell_type": "code",
   "execution_count": 15,
   "metadata": {
    "collapsed": true
   },
   "outputs": [],
   "source": [
    "batch_size = 10\n",
    "dataset = gluon.data.ArrayDataset(X, y)\n",
    "data_iter = gluon.data.DataLoader(dataset, batch_size, shuffle=True)"
   ]
  },
  {
   "cell_type": "code",
   "execution_count": 17,
   "metadata": {},
   "outputs": [],
   "source": [
    "x = list(data_iter)"
   ]
  }
 ],
 "metadata": {
  "kernelspec": {
   "display_name": "Python 3",
   "language": "python",
   "name": "python3"
  },
  "language_info": {
   "codemirror_mode": {
    "name": "ipython",
    "version": 3
   },
   "file_extension": ".py",
   "mimetype": "text/x-python",
   "name": "python",
   "nbconvert_exporter": "python",
   "pygments_lexer": "ipython3",
   "version": "3.6.1"
  }
 },
 "nbformat": 4,
 "nbformat_minor": 2
}
